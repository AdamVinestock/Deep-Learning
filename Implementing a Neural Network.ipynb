{
 "cells": [
  {
   "cell_type": "markdown",
   "metadata": {
    "id": "CpGv7oW4PwdM"
   },
   "source": [
    "# Neural Networks\n",
    "\n",
    "In this notebook, I will implement a three layer multi-class neural network.\n",
    "\n",
    "**TIP:** You may find the following link helpful: \n",
    "http://cs231n.github.io/neural-networks-case-study"
   ]
  },
  {
   "cell_type": "code",
   "execution_count": 1,
   "metadata": {
    "ExecuteTime": {
     "end_time": "2022-11-28T06:46:18.152048Z",
     "start_time": "2022-11-28T06:46:17.469849Z"
    },
    "id": "pA0hjtyJPwdO"
   },
   "outputs": [],
   "source": [
    "import os\n",
    "import numpy as np\n",
    "import matplotlib.pyplot as plt\n",
    "import pickle\n",
    "import numpy as np\n",
    "import os\n",
    "import sys\n",
    "import urllib.request\n",
    "import tarfile\n",
    "import zipfile\n",
    "from random import randrange\n",
    "from functools import partial\n",
    "import itertools\n",
    "import time\n",
    "\n",
    "# specify the way plots behave in jupyter notebook\n",
    "%matplotlib inline\n",
    "plt.rcParams['figure.figsize'] = (12.0, 12.0) # set default size of plots\n",
    "plt.rcParams['image.interpolation'] = 'nearest'\n",
    "plt.rcParams['image.cmap'] = 'gray'"
   ]
  },
  {
   "cell_type": "markdown",
   "metadata": {
    "id": "QcYX2rU2PwdP"
   },
   "source": [
    "# Data preprocessing\n"
   ]
  },
  {
   "cell_type": "markdown",
   "metadata": {
    "id": "Oa-bjEWl9fW6"
   },
   "source": [
    "## Data download and processing Helper Code"
   ]
  },
  {
   "cell_type": "code",
   "execution_count": 2,
   "metadata": {
    "ExecuteTime": {
     "end_time": "2022-11-28T06:46:18.167551Z",
     "start_time": "2022-11-28T06:46:18.153952Z"
    },
    "id": "9_uAlYcQ9dF7"
   },
   "outputs": [],
   "source": [
    "def maybe_download_and_extract(url, download_dir):\n",
    "    \"\"\"\n",
    "    Download and extract the data if it doesn't already exist.\n",
    "    Assumes the url is a tar-ball file.\n",
    "    :param url:\n",
    "        Internet URL for the tar-file to download.\n",
    "        Example: \"https://www.cs.toronto.edu/~kriz/cifar-10-python.tar.gz\"\n",
    "    :param download_dir:\n",
    "        Directory where the downloaded file is saved.\n",
    "        Example: \"data/CIFAR-10/\"\n",
    "    :return:\n",
    "        Nothing.\n",
    "    \"\"\"\n",
    "    # Filename for saving the file downloaded from the internet.\n",
    "    # Use the filename from the URL and add it to the download_dir.\n",
    "    filename = url.split('/')[-1]\n",
    "    file_path = os.path.join(download_dir, filename)\n",
    "\n",
    "    # Check if the file already exists.\n",
    "    # If it exists then we assume it has also been extracted,\n",
    "    # otherwise we need to download and extract it now.\n",
    "    if not os.path.exists(file_path):\n",
    "        # Check if the download directory exists, otherwise create it.\n",
    "        if not os.path.exists(download_dir):\n",
    "            os.makedirs(download_dir)\n",
    "\n",
    "        # Download the file from the internet.\n",
    "        print(\"Downloading, This might take several minutes.\")\n",
    "        file_path, _ = urllib.request.urlretrieve(url=url,\n",
    "                                                  filename=file_path)\n",
    "\n",
    "        print(\"Download finished. Extracting files.\")\n",
    "\n",
    "        if file_path.endswith(\".zip\"):\n",
    "            # Unpack the zip-file.\n",
    "            zipfile.ZipFile(file=file_path, mode=\"r\").extractall(download_dir)\n",
    "        elif file_path.endswith((\".tar.gz\", \".tgz\")):\n",
    "            # Unpack the tar-ball.\n",
    "            tarfile.open(name=file_path, mode=\"r:gz\").extractall(download_dir)\n",
    "\n",
    "        print(\"Done.\")\n",
    "    else:\n",
    "        print(\"Data has apparently already been downloaded and unpacked.\")\n",
    "        print(\"If not, delete the dataset folder and try again.\")\n",
    "\n",
    "def load_CIFAR_batch(filename):\n",
    "    ''' load single batch of cifar '''\n",
    "    with open(filename, 'rb') as f:\n",
    "        datadict = pickle.load(f, encoding = 'latin1')\n",
    "        X = datadict['data']\n",
    "        Y = datadict['labels']\n",
    "        X = X.reshape(10000, 3, 32, 32).transpose(0, 2, 3, 1).astype(\"float\")\n",
    "        Y = np.array(Y)\n",
    "        return X, Y\n",
    "\n",
    "def load(ROOT):\n",
    "    ''' load all of cifar '''\n",
    "    xs = []\n",
    "    ys = []\n",
    "    for b in range(1, 6):\n",
    "        f = os.path.join(ROOT, 'data_batch_%d' % (b, ))\n",
    "        X, Y = load_CIFAR_batch(f)\n",
    "        xs.append(X)\n",
    "        ys.append(Y)\n",
    "    Xtr = np.concatenate(xs)\n",
    "    Ytr = np.concatenate(ys)\n",
    "    del X, Y\n",
    "    Xte, Yte = load_CIFAR_batch(os.path.join(ROOT, 'test_batch'))\n",
    "    return Xtr, Ytr, Xte, Yte"
   ]
  },
  {
   "cell_type": "markdown",
   "metadata": {
    "id": "8MeVWzF19mVA"
   },
   "source": [
    "## Data Download\n",
    "\n",
    "The next cell will download and extract CIFAR-10 into `datasets/cifar10/`. The CIFAR-10 dataset consists of 60,000 32x32 color images in 10 classes, with 6,000 images per class. There are 50,000 training images and 10,000 test images. The dataset is divided into five training batches and one test batch, each with 10,000 images. The test batch contains exactly 1,000 randomly-selected images from each class.\n"
   ]
  },
  {
   "cell_type": "code",
   "execution_count": 3,
   "metadata": {
    "ExecuteTime": {
     "end_time": "2022-11-28T06:46:18.183294Z",
     "start_time": "2022-11-28T06:46:18.170425Z"
    },
    "colab": {
     "base_uri": "https://localhost:8080/"
    },
    "id": "8bHbknwvPwdQ",
    "outputId": "14fd8ca9-ed8b-4d8a-c12d-313a6e16d2e8"
   },
   "outputs": [
    {
     "name": "stdout",
     "output_type": "stream",
     "text": [
      "Data has apparently already been downloaded and unpacked.\n",
      "If not, delete the dataset folder and try again.\n"
     ]
    }
   ],
   "source": [
    "# this cell will download the data if it does not exists\n",
    "URL = \"https://www.cs.toronto.edu/~kriz/cifar-10-python.tar.gz\"\n",
    "PATH = 'datasets/cifar10/' # the script will create required directories\n",
    "maybe_download_and_extract(URL, PATH) "
   ]
  },
  {
   "cell_type": "markdown",
   "metadata": {
    "id": "beFt0AfB9w9f"
   },
   "source": [
    "## Data Preprocessing"
   ]
  },
  {
   "cell_type": "markdown",
   "metadata": {
    "id": "H_YTIdyB5qMO"
   },
   "source": [
    "**Notice that we are leaving behind the bias trick**"
   ]
  },
  {
   "cell_type": "code",
   "execution_count": 4,
   "metadata": {
    "ExecuteTime": {
     "end_time": "2022-11-28T06:46:20.967912Z",
     "start_time": "2022-11-28T06:46:18.185329Z"
    },
    "colab": {
     "base_uri": "https://localhost:8080/"
    },
    "id": "fyLpzTyzPwdQ",
    "outputId": "7b4b3f20-a530-4f99-8a17-9a83c7822d38"
   },
   "outputs": [
    {
     "name": "stdout",
     "output_type": "stream",
     "text": [
      "Shape of training set: (20000, 3072)\n",
      "Shape of validation set: (1000, 3072)\n",
      "Shape of test set: (1000, 3072)\n"
     ]
    }
   ],
   "source": [
    "CIFAR10_PATH = os.path.join(PATH, 'cifar-10-batches-py')\n",
    "X_train, y_train, X_test, y_test = load(CIFAR10_PATH) # load the entire data\n",
    "num_classes = 4\n",
    "\n",
    "X_train = X_train[np.isin(y_train, range(num_classes))]\n",
    "y_train = y_train[np.isin(y_train, range(num_classes))]\n",
    "X_test = X_test[np.isin(y_test, range(num_classes))]\n",
    "y_test = y_test[np.isin(y_test, range(num_classes))]\n",
    "\n",
    "# define a splitting for the data\n",
    "num_training = num_classes*5000\n",
    "num_validation = 1000\n",
    "num_testing = 1000\n",
    "\n",
    "# add a validation dataset for hyperparameter optimization\n",
    "mask = range(num_training)\n",
    "X_train = X_train[mask]\n",
    "y_train = y_train[mask]\n",
    "mask = range(num_validation)\n",
    "X_val = X_test[mask]\n",
    "y_val = y_test[mask]\n",
    "mask = range(num_validation, num_validation+num_testing)\n",
    "X_test = X_test[mask]\n",
    "y_test = y_test[mask]\n",
    "\n",
    "# float64\n",
    "X_train = X_train.astype(np.float64)\n",
    "X_val = X_val.astype(np.float64)\n",
    "X_test = X_test.astype(np.float64)\n",
    "\n",
    "# subtract the mean from all the images in the batch\n",
    "mean_image = np.mean(X_train, axis=0)\n",
    "X_train -= mean_image\n",
    "X_val -= mean_image\n",
    "X_test -= mean_image\n",
    "\n",
    "# flatten all the images in the batch (make sure you understand why this is needed)\n",
    "X_train = np.reshape(X_train, newshape=(X_train.shape[0], -1))\n",
    "X_val = np.reshape(X_val, newshape=(X_val.shape[0], -1)) \n",
    "X_test = np.reshape(X_test, newshape=(X_test.shape[0], -1)) \n",
    "\n",
    "print(f\"Shape of training set: {X_train.shape}\")\n",
    "print(f\"Shape of validation set: {X_val.shape}\")\n",
    "print(f\"Shape of test set: {X_test.shape}\")\n",
    "\n",
    "classes = ['plane', 'car', 'bird', 'cat']"
   ]
  },
  {
   "cell_type": "code",
   "execution_count": 5,
   "metadata": {
    "ExecuteTime": {
     "end_time": "2022-11-28T06:46:21.137947Z",
     "start_time": "2022-11-28T06:46:20.972016Z"
    },
    "colab": {
     "base_uri": "https://localhost:8080/",
     "height": 234
    },
    "id": "mHATPoNJPwdQ",
    "outputId": "bc544bf9-ecce-4903-eeeb-22afee3b745c"
   },
   "outputs": [
    {
     "name": "stdout",
     "output_type": "stream",
     "text": [
      "      car       car      bird      bird\n"
     ]
    },
    {
     "data": {
      "text/plain": [
       "<matplotlib.image.AxesImage at 0x21385b7cd00>"
      ]
     },
     "execution_count": 5,
     "metadata": {},
     "output_type": "execute_result"
    },
    {
     "data": {
      "image/png": "[encoded data removed]",
      "text/plain": [
       "<Figure size 864x864 with 1 Axes>"
      ]
     },
     "metadata": {
      "needs_background": "light"
     },
     "output_type": "display_data"
    }
   ],
   "source": [
    "def get_batch(X, y, n=1000):\n",
    "    rand_items = np.random.randint(0, X.shape[0], size=n)\n",
    "    images = X[rand_items]\n",
    "    labels = y[rand_items]\n",
    "    return images, labels\n",
    "\n",
    "def make_random_grid(x, y, n=4, convert_to_image=True, random_flag=True):\n",
    "    if random_flag:\n",
    "        rand_items = np.random.randint(0, x.shape[0], size=n)\n",
    "    else:\n",
    "        rand_items = np.arange(0, x.shape[0])\n",
    "    images = x[rand_items]\n",
    "    labels = y[rand_items]\n",
    "    if convert_to_image:\n",
    "        grid = np.hstack(np.array([np.asarray((vec_2_img(i) + mean_image), dtype=np.int64) for i in images]))\n",
    "    else:\n",
    "        grid = np.hstack(np.array([np.asarray(i, dtype=np.int64) for i in images]))\n",
    "    print(' '.join('%9s' % classes[labels[j]] for j in range(n)))\n",
    "    return grid\n",
    "\n",
    "def vec_2_img(x):\n",
    "    x = np.reshape(x, (32, 32, 3))\n",
    "    return x\n",
    "\n",
    "X_batch, y_batch = get_batch(X_test, y_test, 100)\n",
    "plt.imshow(make_random_grid(X_batch, y_batch, convert_to_image=True))"
   ]
  },
  {
   "cell_type": "markdown",
   "metadata": {
    "id": "r9MRQD6v4aDz"
   },
   "source": [
    "# Loss"
   ]
  },
  {
   "cell_type": "markdown",
   "metadata": {
    "id": "kRuXmTuzPwdS"
   },
   "source": [
    "## Cross-entropy\n",
    "\n",
    "\n",
    "The function `softmax_loss` using vectorized code takes as input `scores`, labels `y` and outputs the calculated loss as a single number and the gradients with respect to X."
   ]
  },
  {
   "cell_type": "code",
   "execution_count": 6,
   "metadata": {
    "ExecuteTime": {
     "end_time": "2022-11-28T06:46:21.153755Z",
     "start_time": "2022-11-28T06:46:21.140549Z"
    },
    "id": "GQ2BtZDMOaMv"
   },
   "outputs": [],
   "source": [
    "def softmax_loss(scores, y):\n",
    "    \"\"\"\n",
    "    Computes the loss and gradient for softmax classification.\n",
    "    Inputs:\n",
    "    - scores: scores of shape (N, C) where scores[i, c] is the score for class c on input X[i].\n",
    "    - y: Vector of labels\n",
    "\n",
    "    Returns a tuple of:\n",
    "    - loss: Scalar giving the loss\n",
    "    - dx: Gradient of the loss with respect to x\n",
    "    \"\"\"\n",
    "\n",
    "    exp_scores = np.exp(scores)                       \n",
    "    probs = exp_scores / np.sum(exp_scores, axis=1, keepdims=True)    #Calculating the softmax for each score\n",
    "    instance_loss = -np.log(probs[range(scores.shape[0]),y])          #Calculating softmax arr loss for each instance\n",
    "    loss = np.sum(instance_loss)/scores.shape[0]\n",
    "    y_minus_p = probs\n",
    "    y_minus_p[range(scores.shape[0]),y] -= 1\n",
    "    dx = y_minus_p / scores.shape[0]\n",
    "\n",
    "    return loss, dx"
   ]
  },
  {
   "cell_type": "code",
   "execution_count": 7,
   "metadata": {
    "ExecuteTime": {
     "end_time": "2022-11-28T06:46:21.169038Z",
     "start_time": "2022-11-28T06:46:21.155754Z"
    },
    "id": "GQ2BtZDMOaMv"
   },
   "outputs": [],
   "source": [
    "# some tests\n",
    "np.random.seed(42)\n",
    "\n",
    "num_instances = 5\n",
    "num_classes = 3\n",
    "\n",
    "y = np.random.randint(num_classes, size=num_instances)\n",
    "scores = np.random.randn(num_instances * num_classes).reshape(num_instances, num_classes)\n",
    "loss, dx = softmax_loss(scores, y)\n",
    "\n",
    "correct_grad = np.array([[ 0.0062,  0.1751, -0.1813],\n",
    "         [-0.1463,  0.0561,  0.0901],\n",
    "         [ 0.0404,  0.0771, -0.1174],\n",
    "         [ 0.0223,  0.0855, -0.1078],\n",
    "         [-0.1935,  0.1358,  0.0578]])\n",
    "correct_loss = 1.7544\n",
    "assert np.isclose(dx.round(4), correct_grad, rtol=1e-3).all()\n",
    "assert np.isclose(loss.round(4), correct_loss, rtol=1e-3).all()"
   ]
  },
  {
   "cell_type": "markdown",
   "metadata": {
    "id": "W3b1r34XiywH"
   },
   "source": [
    "## L2 Regularization\n",
    "\n",
    "Regularization is a very important technique in machine learning to prevent overfitting. Mathematically speaking, it adds a regularization term to the loss to penalize larger weights. \n",
    "$$\n",
    "Loss = Loss + \\lambda  \\cdot \\frac{1}{2} \\cdot \\sum_{i=0}^k w_k^2\n",
    "$$\n",
    "\n",
    "Implementing the L2 regularization part of the loss in the next cell:"
   ]
  },
  {
   "cell_type": "code",
   "execution_count": 8,
   "metadata": {
    "ExecuteTime": {
     "end_time": "2022-11-28T06:46:21.184401Z",
     "start_time": "2022-11-28T06:46:21.171489Z"
    },
    "id": "wk--K9pGi_Lb"
   },
   "outputs": [],
   "source": [
    "def l2_regulariztion_loss(W, reg=0):\n",
    "    \"\"\"\n",
    "    L2 regulariztion loss function, vectorized version.\n",
    "    - W: a layer's weights.\n",
    "    - reg: (float) regularization strength\n",
    "    \"\"\"\n",
    "    loss = 0.0\n",
    "    dW = np.zeros_like(W)\n",
    "    #############################################################################\n",
    "    #        Compute the L2 reulariztion loss and its gradient using no         #\n",
    "    # explicit loops.                                                           #\n",
    "    # Store the loss in loss and the gradient in dW.                            #\n",
    "    #############################################################################\n",
    "\n",
    "    loss += 0.5*reg*np.sum(W*W)  # only the regularization part, will be summed later\n",
    "    dW = reg*W                   # only the regularization part, will be summed later\n",
    "    return loss, dW"
   ]
  },
  {
   "cell_type": "markdown",
   "metadata": {
    "id": "xerXQe6hPwdU"
   },
   "source": [
    "# Neural Network\n",
    "\n",
    "The implementation of linear regression was (hopefully) simple yet not very modular since the layer, loss and gradient were calculated as a single monolithic function. This would become impractical as we move towards bigger models. As a warmup towards `PyTorch`, we want to build networks using a more modular design so that we can implement different layer types in isolation and easily integrate them together into models with different architectures.\n",
    "\n",
    "This logic of isolation & integration is at the heart of all popular deep learning frameworks, and is based on two methods each layer holds - a forward and backward pass. The forward function will receive inputs, weights and other parameters and will return both an output and a cache object storing data needed for the backward pass. The backward pass will receive upstream derivatives and the cache, and will return gradients with respect to the inputs and weights. By implementing several types of layers this way, we will be able to easily combine them to build classifiers with different architectures with relative ease.\n",
    "\n",
    "We will implement a neural network to obtain better results on CIFAR-10. \n",
    "Our neural network will be implemented in the following cells. We will train this network using softmax loss and L2 regularization and a ReLU non-linearity.\n",
    "\n"
   ]
  },
  {
   "cell_type": "markdown",
   "metadata": {
    "id": "CHH9dGgt4NP3"
   },
   "source": [
    "### Fully Connected Layer: Forward Pass. \n",
    "\n",
    "Implementing the function `fc_forward`."
   ]
  },
  {
   "cell_type": "code",
   "execution_count": 9,
   "metadata": {
    "ExecuteTime": {
     "end_time": "2022-11-28T06:46:21.200656Z",
     "start_time": "2022-11-28T06:46:21.189432Z"
    },
    "id": "OO3vgLtGVWkv"
   },
   "outputs": [],
   "source": [
    "def fc_forward(X, W, b):\n",
    "    \"\"\"\n",
    "    Computes the forward pass for an fully connected layer.\n",
    "    The input x has shape (N, d_1, ..., d_k) and contains a minibatch of N\n",
    "    examples, where each example x[i] has shape (d_1, ..., d_k). We will\n",
    "    reshape each input into a vector of dimension D = d_1 * ... * d_k, and\n",
    "    then transform it to an output vector of dimension M.\n",
    "    Inputs:\n",
    "    - x: A numpy array containing input data, of shape (N, d_1, ..., d_k)\n",
    "    - W: A numpy array of weights, of shape (D, M)\n",
    "    - b: A numpy array of biases, of shape (M,)\n",
    "\n",
    "    Returns a tuple of:\n",
    "    - out: output, of shape (N, M)\n",
    "    - cache: (x, w, b)\n",
    "    \"\"\"\n",
    "    out = None\n",
    "    cache = (X.copy(), W.copy(), b.copy())\n",
    "    N = X.shape[0]\n",
    "    D = int(np.prod(X.shape)/X.shape[0])\n",
    "    X = X.reshape(N , D)\n",
    "    out = X @ W + b \n",
    "    \n",
    "    return out, cache"
   ]
  },
  {
   "cell_type": "code",
   "execution_count": 10,
   "metadata": {
    "ExecuteTime": {
     "end_time": "2022-11-28T06:46:21.215718Z",
     "start_time": "2022-11-28T06:46:21.202326Z"
    },
    "id": "bkwG7GJ_PwdU"
   },
   "outputs": [],
   "source": [
    "np.random.seed(42)\n",
    "\n",
    "num_instances = 5\n",
    "input_shape = (11, 7, 3)\n",
    "output_shape = 4\n",
    "\n",
    "X = np.random.randn(num_instances * np.prod(input_shape)).reshape(num_instances, *input_shape)\n",
    "W = np.random.randn(np.prod(input_shape) * output_shape).reshape(np.prod(input_shape), output_shape)\n",
    "b = np.random.randn(output_shape)\n",
    "\n",
    "out, _ = fc_forward(X, W, b)\n",
    "\n",
    "correct_out = np.array([[16.77132953,  1.43667172, -15.60205534,   7.15789287],\n",
    "                        [ -8.5994206,  7.59104298,  10.92160126,  17.19394331],\n",
    "                        [ 4.77874003,  2.25606192,  -6.10944859,  14.76954561],\n",
    "                        [21.21222953, 17.82329258,   4.53431782,  -9.88327913],\n",
    "                        [18.83041801, -2.55273817,  14.08484003,  -3.99196171]])\n",
    "\n",
    "assert np.isclose(out, correct_out, rtol=1e-8).all()"
   ]
  },
  {
   "cell_type": "markdown",
   "metadata": {
    "id": "HaJgjBa2PwdU"
   },
   "source": [
    "### Fully Connected Layer: Backward Pass \n",
    "\n",
    "Implementing the function `fc_backward`"
   ]
  },
  {
   "cell_type": "code",
   "execution_count": 11,
   "metadata": {
    "ExecuteTime": {
     "end_time": "2022-11-28T06:46:21.231622Z",
     "start_time": "2022-11-28T06:46:21.217581Z"
    },
    "id": "GKGLxK7wVakI"
   },
   "outputs": [],
   "source": [
    "def fc_backward(dout, cache):\n",
    "    \"\"\"\n",
    "    Computes the backward pass for an fully connected layer.\n",
    "    Try the link in the exercise intructions for more details.\n",
    "    Inputs:\n",
    "    - dout: Upstream derivatives\n",
    "    - cache: Tuple of\n",
    "      - X: Input data\n",
    "      - W: Weights\n",
    "      - b: Biases\n",
    "    Returns a tuple of:\n",
    "    - dx: Gradient with respect to X\n",
    "    - dw: Gradient with respect to W\n",
    "    - db: Gradient with respect to b\n",
    "    \"\"\"\n",
    "    x, w, b = cache\n",
    "    dx, dw, db = 0, 0, 0\n",
    "    dx = (dout @ w.T).reshape(x.shape)              # dz/dx*dL/dz\n",
    "    dw = (x.T @ dout).T.reshape(w.T.shape).T        # dz/dw*dL/dz\n",
    "    db = (np.ones(dout.shape[0]) @ dout).T          # dz/db*dL/dz\n",
    "    \n",
    "    return dx, dw, db"
   ]
  },
  {
   "cell_type": "code",
   "execution_count": 12,
   "metadata": {
    "ExecuteTime": {
     "end_time": "2022-11-28T06:46:21.247332Z",
     "start_time": "2022-11-28T06:46:21.232614Z"
    },
    "id": "K3Xcoeqxnq_F"
   },
   "outputs": [],
   "source": [
    "def eval_numerical_gradient_array(f, x, df, h=1e-5):\n",
    "    \"\"\"\n",
    "    Evaluate a numeric gradient for a function that accepts a numpy\n",
    "    array and returns a numpy array.\n",
    "    \"\"\"\n",
    "    grad = np.zeros_like(x)\n",
    "    it = np.nditer(x, flags=['multi_index'], op_flags=['readwrite'])\n",
    "    while not it.finished:\n",
    "        ix = it.multi_index\n",
    "\n",
    "        oldval = x[ix]\n",
    "        x[ix] = oldval + h\n",
    "        pos = f(x).copy()\n",
    "        x[ix] = oldval - h\n",
    "        neg = f(x).copy()\n",
    "        x[ix] = oldval\n",
    "\n",
    "        grad[ix] = np.sum((pos - neg) * df) / (2 * h)\n",
    "        it.iternext()\n",
    "    return grad"
   ]
  },
  {
   "cell_type": "code",
   "execution_count": 13,
   "metadata": {
    "ExecuteTime": {
     "end_time": "2022-11-28T06:46:21.262753Z",
     "start_time": "2022-11-28T06:46:21.248711Z"
    },
    "id": "7J13imMzPwdU"
   },
   "outputs": [],
   "source": [
    "np.random.seed(42)\n",
    "x = np.random.randn(10, 2, 3)\n",
    "w = np.random.randn(6, 5)\n",
    "b = np.random.randn(5)\n",
    "dout = np.random.randn(10, 5)\n",
    "\n",
    "dx_num = eval_numerical_gradient_array(lambda x: fc_forward(x, w, b)[0], x, dout)\n",
    "dw_num = eval_numerical_gradient_array(lambda w: fc_forward(x, w, b)[0], w, dout)\n",
    "db_num = eval_numerical_gradient_array(lambda b: fc_forward(x, w, b)[0], b, dout)\n",
    "\n",
    "out, cache = fc_forward(x,w,b)\n",
    "dx, dw, db = fc_backward(dout, cache)\n",
    "\n",
    "assert np.isclose(dw, dw_num, rtol=1e-8).all() # simple test\n",
    "assert np.isclose(dx, dx_num, rtol=1e-8).all() # simple test\n",
    "assert np.isclose(db, db_num, rtol=1e-8).all() # simple test"
   ]
  },
  {
   "cell_type": "markdown",
   "metadata": {
    "id": "V6D5b-J5PwdV"
   },
   "source": [
    "### ReLU: Forward Pass \n",
    "\n",
    "Implementing the function `relu_forward`."
   ]
  },
  {
   "cell_type": "code",
   "execution_count": 14,
   "metadata": {
    "ExecuteTime": {
     "end_time": "2022-11-28T06:46:21.278815Z",
     "start_time": "2022-11-28T06:46:21.264744Z"
    },
    "id": "bO5iMs3aVeTl"
   },
   "outputs": [],
   "source": [
    "def relu_forward(x):\n",
    "    \"\"\"\n",
    "    Computes the forward pass for a layer of rectified linear units (ReLUs).\n",
    "    Input:\n",
    "    - x: Inputs, of any shape\n",
    "    Returns a tuple of:\n",
    "    - out: Output, of the same shape as x\n",
    "    - cache: x\n",
    "    \"\"\"\n",
    "    out = None\n",
    "    out = np.maximum(0,x)\n",
    "    cache = x.copy()\n",
    "    return out, cache"
   ]
  },
  {
   "cell_type": "code",
   "execution_count": 15,
   "metadata": {
    "ExecuteTime": {
     "end_time": "2022-11-28T06:46:21.294685Z",
     "start_time": "2022-11-28T06:46:21.280962Z"
    },
    "id": "WdYx8zaOPwdV"
   },
   "outputs": [],
   "source": [
    "x = np.linspace(-0.5, 0.5, num=12).reshape(3, 4)\n",
    "out, _ = relu_forward(x)\n",
    "correct_out = np.array([[ 0.,          0.,          0.,          0.,        ],\n",
    "                        [ 0.,          0.,          0.04545455,  0.13636364,],\n",
    "                        [ 0.22727273,  0.31818182,  0.40909091,  0.5,       ]])\n",
    "\n",
    "assert np.isclose(out, correct_out, rtol=1e-8).all() # simple test"
   ]
  },
  {
   "cell_type": "markdown",
   "metadata": {
    "id": "jOP-MRufPwdV"
   },
   "source": [
    "### ReLU: Backward Pass\n",
    "\n",
    "Implementing the function `relu_backward`."
   ]
  },
  {
   "cell_type": "code",
   "execution_count": 16,
   "metadata": {
    "ExecuteTime": {
     "end_time": "2022-11-28T06:46:21.310754Z",
     "start_time": "2022-11-28T06:46:21.296684Z"
    },
    "id": "n3YsNEphVhuo"
   },
   "outputs": [],
   "source": [
    "def relu_backward(dout, cache):\n",
    "    \"\"\"\n",
    "    Computes the backward pass for a layer of rectified linear units (ReLUs).\n",
    "    Input:\n",
    "    - dout: Upstream derivatives, of any shape\n",
    "    - cache: Input x, of same shape as dout\n",
    "    Returns:\n",
    "    - dx: Gradient with respect to x\n",
    "    \"\"\"\n",
    "    dx, x = None, cache\n",
    "    dx = np.where(x<=0, 0, dout)\n",
    "    return dx"
   ]
  },
  {
   "cell_type": "code",
   "execution_count": 17,
   "metadata": {
    "ExecuteTime": {
     "end_time": "2022-11-28T06:46:21.325592Z",
     "start_time": "2022-11-28T06:46:21.312932Z"
    },
    "id": "w_9OFZZ-PwdV"
   },
   "outputs": [],
   "source": [
    "np.random.seed(42)\n",
    "x = np.random.randn(10, 10)\n",
    "dout = np.random.randn(*x.shape)\n",
    "dx_num = eval_numerical_gradient_array(lambda x: relu_forward(x)[0], x, dout)\n",
    "xx, cache = relu_forward(x)\n",
    "dx = relu_backward(dout, cache)\n",
    "\n",
    "assert np.isclose(dx, dx_num, rtol=1e-8).all()  # simple test"
   ]
  },
  {
   "cell_type": "markdown",
   "metadata": {
    "id": "kX0UZJdDPwdV"
   },
   "source": [
    "### Combined Layer\n",
    "Next we combine the fully connected and relu forward\\backward functions togther using the functions in the following cell. \n",
    "Remember to use functions you already implemented."
   ]
  },
  {
   "cell_type": "code",
   "execution_count": 18,
   "metadata": {
    "ExecuteTime": {
     "end_time": "2022-11-28T06:46:21.341148Z",
     "start_time": "2022-11-28T06:46:21.327148Z"
    },
    "id": "yhSV6tHgpZd0"
   },
   "outputs": [],
   "source": [
    "def fc_relu_forward(X, W, b):\n",
    "    \"\"\"\n",
    "    Forward pass for a fully connected layer followed by a ReLU.\n",
    "    Inputs:\n",
    "    - X: Input to the fc layer\n",
    "    - W, b: Weights for the fc layer\n",
    "    Returns:\n",
    "    - out: Output from the ReLU\n",
    "    - cache: Object to give to the backward pass\n",
    "    \"\"\"\n",
    "    x, fc_cache = fc_forward(X, W, b)\n",
    "    out, relu_cache = relu_forward(x)\n",
    "    cache = (fc_cache, relu_cache)\n",
    "    return out, cache\n",
    "\n",
    "\n",
    "def fc_relu_backward(dout, cache):\n",
    "    \"\"\"\n",
    "    Backward pass for a fully connected layer followed by a ReLU\n",
    "    Inputs:\n",
    "    - dout: upstream derivatives\n",
    "    - cache: parameters calculated during the forward pass\n",
    "    Returns:\n",
    "    - dX: derivative w.r.t X\n",
    "    - dW: derivative w.r.t W\n",
    "    - db: derivative w.r.t b\n",
    "    \"\"\"\n",
    "    fc_cache, relu_cache = cache\n",
    "    dx = relu_backward(dout, relu_cache)\n",
    "    dx, dw, db = fc_backward(dx, fc_cache)\n",
    "    return dx, dw, db"
   ]
  },
  {
   "cell_type": "markdown",
   "metadata": {
    "id": "2RNFsQVGrFUE"
   },
   "source": [
    "We can check the results in the next cell:"
   ]
  },
  {
   "cell_type": "code",
   "execution_count": 19,
   "metadata": {
    "ExecuteTime": {
     "end_time": "2022-11-28T06:46:21.357151Z",
     "start_time": "2022-11-28T06:46:21.343147Z"
    },
    "id": "wfsIy8dEqx7r"
   },
   "outputs": [],
   "source": [
    "np.random.seed(42)\n",
    "x = np.random.randn(10, 2, 3)\n",
    "w = np.random.randn(6, 5)\n",
    "b = np.random.randn(5)\n",
    "dout = np.random.randn(10, 5)\n",
    "\n",
    "dx_num = eval_numerical_gradient_array(lambda x: fc_relu_forward(x, w, b)[0], x, dout)\n",
    "dw_num = eval_numerical_gradient_array(lambda w: fc_relu_forward(x, w, b)[0], w, dout)\n",
    "db_num = eval_numerical_gradient_array(lambda b: fc_relu_forward(x, w, b)[0], b, dout)\n",
    "\n",
    "out, cache = fc_relu_forward(x,w,b)\n",
    "dx, dw, db = fc_relu_backward(dout, cache)\n",
    "\n",
    "assert np.isclose(dw, dw_num, rtol=1e-8).all() # simple test\n",
    "assert np.isclose(dx, dx_num, rtol=1e-8).all() # simple test\n",
    "assert np.isclose(db, db_num, rtol=1e-8).all() # simple test"
   ]
  },
  {
   "cell_type": "markdown",
   "metadata": {
    "id": "eHYeDvNcPwdV"
   },
   "source": [
    "# Building the Network\n",
    "\n"
   ]
  },
  {
   "cell_type": "markdown",
   "metadata": {
    "id": "B7-k0EkePwdV"
   },
   "source": [
    "We start by creating the class `ThreeLayerNet`."
   ]
  },
  {
   "cell_type": "code",
   "execution_count": 20,
   "metadata": {
    "ExecuteTime": {
     "end_time": "2022-11-28T06:46:21.388140Z",
     "start_time": "2022-11-28T06:46:21.358811Z"
    },
    "id": "883fce5uWDVl"
   },
   "outputs": [],
   "source": [
    "class ThreeLayerNet(object):\n",
    "    \"\"\"\n",
    "    A three-layer fully-connected neural network. This network has an input dimension of\n",
    "    N, a hidden layer dimension of H, and performs classification over C classes.\n",
    "    In our case, we use the same hidden dimension across all hidden layers.\n",
    "    We train the network with a softmax loss function and L2 regularization on the\n",
    "    weight matrices. In other words, the network has the following architecture:\n",
    "\n",
    "    input - fc layer - ReLU - fc layer - ReLu - fc layer - softmax\n",
    "\n",
    "    The outputs of the third fully-connected layer are the scores for each class.\n",
    "    \"\"\"\n",
    "\n",
    "    def __init__(self, input_size, hidden_size, output_size, std=1e-2):\n",
    "        \"\"\"\n",
    "        Initialize the model. Weights are initialized to small random values and\n",
    "        biases are initialized to zero. Weights and biases are stored in the\n",
    "        variable self.params, which is a dictionary with the following keys:\n",
    "\n",
    "        W1: First layer weights; has shape (D, H)\n",
    "        b1: First layer biases; has shape (H,)\n",
    "        W2: Second layer weights; has shape (H, H)\n",
    "        b2: Second layer biases; has shape (H,)\n",
    "        W3: Third layer weights; has shape (H, C)\n",
    "        b3: Third layer biases; has shape (C,)\n",
    "\n",
    "        Inputs:\n",
    "        - input_size: The dimension D of the input data.\n",
    "        - hidden_size: The number of neurons H in each of the hidden layers.\n",
    "        - output_size: The number of classes C.\n",
    "        \"\"\"\n",
    "        self.params = {}\n",
    "        self.params['W1'] = std * np.random.randn(input_size, hidden_size)\n",
    "        self.params['b1'] = np.zeros(hidden_size)\n",
    "        self.params['W2'] = std * np.random.randn(hidden_size, hidden_size)\n",
    "        self.params['b2'] = np.zeros(hidden_size)\n",
    "        self.params['W3'] = std * np.random.randn(hidden_size, output_size)\n",
    "        self.params['b3'] = np.zeros(output_size)\n",
    "\n",
    "    def step(self, X, y=None, reg=0.0):\n",
    "        \"\"\"\n",
    "        Compute the loss and gradients for a three layer fully connected neural\n",
    "        network.\n",
    "\n",
    "        Inputs:\n",
    "        - X: Input data of shape (N, D). Each X[i] is a training sample.\n",
    "        - y: Vector of training labels. This parameter is optional; if it\n",
    "          is not passed then we only return scores, and if it is passed then we\n",
    "          instead return the loss and gradients.\n",
    "        - reg: Regularization coefficient.\n",
    "\n",
    "        Returns:\n",
    "        If y is None, return a matrix scores of shape (N, C) where scores[i, c] is\n",
    "        the score for class c on input X[i].\n",
    "\n",
    "        If y is not None, instead return a tuple of:\n",
    "        - loss: Loss (data loss and regularization loss) for this batch of training\n",
    "          samples.\n",
    "        - grads: Dictionary mapping parameter names to gradients of those parameters\n",
    "          with respect to the loss function; has the same keys as self.params.\n",
    "        \"\"\"\n",
    "        # Unpack variables from the params dictionary\n",
    "        W1, b1 = self.params['W1'], self.params['b1']\n",
    "        W2, b2 = self.params['W2'], self.params['b2']\n",
    "        W3, b3 = self.params['W3'], self.params['b3'] \n",
    "\n",
    "        # Compute the forward pass\n",
    "        scores = None\n",
    "        #############################################################################\n",
    "        # Perform the forward pass, computing the class scores for the input.       #\n",
    "        # Store the result in the scores variable, which should be an array of      #\n",
    "        # shape (N, C).                                                             #\n",
    "        #############################################################################\n",
    "\n",
    "        out1, cache1 = fc_relu_forward(X,W1,b1)\n",
    "        out2, cache2 = fc_relu_forward(out1,W2,b2)\n",
    "        scores, cache3 = fc_forward(out2,W3,b3)\n",
    "        exp_scores = np.exp(scores)                       \n",
    "        n_scores = exp_scores / np.sum(exp_scores, axis=1, keepdims=True)\n",
    "\n",
    "        # If the targets are not given then jump out, we're done\n",
    "        if y is None:\n",
    "            return n_scores\n",
    "\n",
    "        # Compute the loss\n",
    "        loss = None\n",
    "        ###############################################################################\n",
    "        # After you finished the forward pass, compute the loss. This should include  #\n",
    "        # both the data loss and L2 regularization for W1, W2, W3. Store the result   #\n",
    "        # in the variable loss, which should be a scalar. Use the softmax_loss        #\n",
    "        # and l2_regulariztion_loss functions you implemented.                        #         \n",
    "        ###############################################################################\n",
    "\n",
    "        loss, d_down_soft = softmax_loss(scores, y)\n",
    "        loss1_l2, dw1_l2 = l2_regulariztion_loss(W1, reg)\n",
    "        loss2_l2, dw2_l2 = l2_regulariztion_loss(W2, reg)\n",
    "        loss3_l2, dw3_l2 = l2_regulariztion_loss(W3, reg)\n",
    "        loss += loss1_l2+loss2_l2+loss3_l2\n",
    "\n",
    "        # Backward pass: compute gradients\n",
    "        grads = {}\n",
    "        \n",
    "        dX3, dW3, db3 = fc_backward(d_down_soft, cache3)\n",
    "        dX2, dW2, db2 = fc_relu_backward(dX3, cache2)\n",
    "        dX1, dW1, db1 = fc_relu_backward(dX2, cache1)\n",
    "        \n",
    "        #############################################################################\n",
    "        # Compute the backward pass, computing the derivatives of the weights       #\n",
    "        # and biases. Store the results in the grads dictionary. For example,       #\n",
    "        # grads['W1'] = dW1 + dW1_reg, it stores the gradient on W1, including      #\n",
    "        # regularization. It should be a matrix of the same size.                   #\n",
    "        #############################################################################\n",
    "\n",
    "        grads['W1'] = dW1+dw1_l2\n",
    "        grads['W2'] = dW2+dw2_l2\n",
    "        grads['W3'] = dW3+dw3_l2\n",
    "        grads['b1'] = db1\n",
    "        grads['b2'] = db2\n",
    "        grads['b3'] = db3\n",
    "        \n",
    "        return loss, grads\n",
    "\n",
    "    def train(self, X, y, X_val, y_val,\n",
    "              learning_rate=1e-3, reg=1e-5, num_iters=100,\n",
    "              batch_size=200, verbose=False):\n",
    "        \"\"\"\n",
    "        Train this neural network using stochastic gradient descent.\n",
    "\n",
    "        Inputs:\n",
    "        - X: A numpy array of shape (N, D) giving training data.\n",
    "        - y: A numpy array f shape (N,) giving training label.\n",
    "        - X_val: A numpy array of shape (N_val, D) giving validation data.\n",
    "        - y_val: A numpy array of shape (N_val,) giving validation labels.\n",
    "        - learning_rate: Scalar giving learning rate for optimization.\n",
    "        - reg: Scalar giving regularization strength.\n",
    "        - num_iters: Number of steps to take when optimizing.\n",
    "        - batch_size: Number of training examples to use per step.\n",
    "        - verbose: boolean; if true print progress during optimization.\n",
    "        \"\"\"\n",
    "        num_train = X.shape[0]\n",
    "        iterations_per_epoch = max(num_train / batch_size, 1)\n",
    "\n",
    "        # Use SGD to optimize the parameters in self.model\n",
    "        loss_history = []\n",
    "        train_acc_history = []\n",
    "        val_acc_history = []\n",
    "\n",
    "        for it in range(num_iters):\n",
    "            X_batch = None\n",
    "            y_batch = None\n",
    "            #########################################################################\n",
    "            # Create a random minibatch of training data and labels, storing        #\n",
    "            # them in X_batch and y_batch respectively.                             #\n",
    "            #########################################################################\n",
    "\n",
    "            batch_indices = np.random.choice(X.shape[0], batch_size, replace=False)\n",
    "            X_batch = X[batch_indices]\n",
    "            y_batch = y[batch_indices]\n",
    "\n",
    "            # Compute loss and gradients using the current minibatch\n",
    "            loss, grads = self.step(X_batch, y=y_batch, reg=reg)\n",
    "            loss_history.append(loss)\n",
    "            \n",
    "            #########################################################################\n",
    "            # Use the gradients in the grads dictionary to update the               #\n",
    "            # parameters of the network (stored in the dictionary self.params)      #\n",
    "            # using stochastic gradient descent. You'll need to use the gradients   #\n",
    "            # stored in the grads dictionary defined above.                         #\n",
    "            #########################################################################\n",
    "\n",
    "            self.params['W1'] -= learning_rate * grads[\"W1\"]\n",
    "            self.params['b1'] -= learning_rate * grads[\"b1\"]\n",
    "            self.params['W2'] -= learning_rate * grads[\"W2\"]\n",
    "            self.params['b2'] -= learning_rate * grads[\"b2\"]\n",
    "            self.params['W3'] -= learning_rate * grads[\"W3\"]\n",
    "            self.params['b3'] -= learning_rate * grads[\"b3\"]\n",
    "\n",
    "            if verbose and (it+1) % 100 == 0:\n",
    "                print ('iteration %d / %d: loss %f' % (it+1, num_iters, loss))\n",
    "\n",
    "            # Every epoch, check train and val accuracy.\n",
    "            if it % iterations_per_epoch == 0:\n",
    "                train_acc = (self.predict(X_batch) == y_batch).mean()\n",
    "                val_acc = (self.predict(X_val) == y_val).mean()\n",
    "                train_acc_history.append(train_acc)\n",
    "                val_acc_history.append(val_acc)\n",
    "\n",
    "        return {\n",
    "          'loss_history': loss_history,\n",
    "          'train_acc_history': train_acc_history,\n",
    "          'val_acc_history': val_acc_history,\n",
    "        }\n",
    "\n",
    "    def predict(self, X):\n",
    "        \"\"\"\n",
    "        Use the trained weights of this three-layer network to predict labels for\n",
    "        data points. For each data point we predict scores for each of the C\n",
    "        classes, and assign each data point to the class with the highest score.\n",
    "\n",
    "        Inputs:\n",
    "        - X: data points to classify.\n",
    "\n",
    "        Returns:\n",
    "        - y_pred: predicted labels\n",
    "        \"\"\"\n",
    "        y_pred = None\n",
    "        # Unpack variables from the params dictionary\n",
    "        W1, b1 = self.params['W1'], self.params['b1']\n",
    "        W2, b2 = self.params['W2'], self.params['b2']\n",
    "        W3, b3 = self.params['W3'], self.params['b3'] \n",
    "\n",
    "        scores = self.step(X)\n",
    "        y_pred = np.argmax(scores, axis=1)\n",
    "         \n",
    "        return y_pred"
   ]
  },
  {
   "cell_type": "code",
   "execution_count": 21,
   "metadata": {
    "ExecuteTime": {
     "end_time": "2022-11-28T06:46:21.403237Z",
     "start_time": "2022-11-28T06:46:21.390103Z"
    },
    "id": "i6KXQ1KvPwdV"
   },
   "outputs": [],
   "source": [
    "input_size = 32 * 32 * 3\n",
    "hidden_size = 128\n",
    "num_classes = 4\n",
    "model = ThreeLayerNet(input_size, hidden_size, num_classes)"
   ]
  },
  {
   "cell_type": "code",
   "execution_count": 22,
   "metadata": {
    "ExecuteTime": {
     "end_time": "2022-11-28T06:47:07.708024Z",
     "start_time": "2022-11-28T06:46:21.405440Z"
    },
    "id": "XbUwlaa9PwdV"
   },
   "outputs": [
    {
     "name": "stdout",
     "output_type": "stream",
     "text": [
      "iteration 100 / 1500: loss 1.057679\n",
      "iteration 200 / 1500: loss 1.007440\n",
      "iteration 300 / 1500: loss 1.003277\n",
      "iteration 400 / 1500: loss 0.871858\n",
      "iteration 500 / 1500: loss 0.730663\n",
      "iteration 600 / 1500: loss 0.741456\n",
      "iteration 700 / 1500: loss 0.850648\n",
      "iteration 800 / 1500: loss 0.653302\n",
      "iteration 900 / 1500: loss 0.780654\n",
      "iteration 1000 / 1500: loss 0.769063\n",
      "iteration 1100 / 1500: loss 0.651179\n",
      "iteration 1200 / 1500: loss 0.770579\n",
      "iteration 1300 / 1500: loss 0.847881\n",
      "iteration 1400 / 1500: loss 0.656721\n",
      "iteration 1500 / 1500: loss 0.700826\n"
     ]
    }
   ],
   "source": [
    "stats = model.train(X_train, y_train, X_val, y_val,\n",
    "            num_iters=1500, batch_size=200,\n",
    "            learning_rate=1e-3, reg=0, verbose=True)"
   ]
  },
  {
   "cell_type": "code",
   "execution_count": 23,
   "metadata": {
    "ExecuteTime": {
     "end_time": "2022-11-28T06:47:07.754799Z",
     "start_time": "2022-11-28T06:47:07.711049Z"
    },
    "id": "-1hDhsb1PwdV"
   },
   "outputs": [
    {
     "name": "stdout",
     "output_type": "stream",
     "text": [
      "Validation accuracy:  0.692\n"
     ]
    }
   ],
   "source": [
    "val_acc = (model.predict(X_val) == y_val).mean()\n",
    "print ('Validation accuracy: ', val_acc)"
   ]
  },
  {
   "cell_type": "code",
   "execution_count": 24,
   "metadata": {
    "ExecuteTime": {
     "end_time": "2022-11-28T06:47:08.208742Z",
     "start_time": "2022-11-28T06:47:07.756434Z"
    },
    "id": "VdhExUOrKcc6"
   },
   "outputs": [
    {
     "name": "stdout",
     "output_type": "stream",
     "text": [
      "Training accuracy:  0.7427\n"
     ]
    }
   ],
   "source": [
    "train_acc = (model.predict(X_train) == y_train).mean()\n",
    "print ('Training accuracy: ', train_acc)"
   ]
  },
  {
   "cell_type": "code",
   "execution_count": 25,
   "metadata": {
    "ExecuteTime": {
     "end_time": "2022-11-28T06:47:08.619195Z",
     "start_time": "2022-11-28T06:47:08.210823Z"
    },
    "id": "F-9rpmQAPwdW"
   },
   "outputs": [
    {
     "data": {
      "image/png": "[encoded data removed]",
      "text/plain": [
       "<Figure size 864x864 with 2 Axes>"
      ]
     },
     "metadata": {
      "needs_background": "light"
     },
     "output_type": "display_data"
    }
   ],
   "source": [
    "# Plot the loss function and train / validation accuracies\n",
    "plt.subplot(2, 1, 1)\n",
    "plt.plot(stats['loss_history'])\n",
    "plt.title('Loss history')\n",
    "plt.xlabel('Iteration')\n",
    "plt.ylabel('Loss')\n",
    "\n",
    "plt.subplot(2, 1, 2)\n",
    "plt.plot(stats['train_acc_history'], label='train')\n",
    "plt.plot(stats['val_acc_history'], label='val')\n",
    "plt.title('Classification accuracy history')\n",
    "plt.xlabel('Epoch')\n",
    "plt.ylabel('Clasification accuracy')\n",
    "plt.show()"
   ]
  },
  {
   "cell_type": "markdown",
   "metadata": {
    "id": "Okkhr5xjPwdW"
   },
   "source": [
    "## Hyperparameter Optimization\n",
    "Use the validation set to tune hyperparameters by training different models (using the training dataset) and evaluating the performance using the validation dataset. Save the results in a dictionary mapping tuples of the form `(learning_rate, hidden_size, regularization)` to tuples of the form `(training_accuracy, validation_accuracy)`. You should evaluate the best model on the testing dataset and print out the training, validation and testing accuracies for each of the models and provide a clear visualization. Highlight the best model w.r.t the testing accuracy. "
   ]
  },
  {
   "cell_type": "code",
   "execution_count": 26,
   "metadata": {
    "ExecuteTime": {
     "end_time": "2022-11-28T07:02:08.693145Z",
     "start_time": "2022-11-28T06:47:08.623196Z"
    },
    "id": "WU33Q_kwPwdW"
   },
   "outputs": [
    {
     "name": "stdout",
     "output_type": "stream",
     "text": [
      "lr 1.000000e-04 hidden_size 32.000000 reg 0.000000 train accuracy: 0.415000 val accuracy: 0.410000\n",
      "lr 1.000000e-04 hidden_size 32.000000 reg 0.001000 train accuracy: 0.460000 val accuracy: 0.434000\n",
      "lr 1.000000e-04 hidden_size 32.000000 reg 0.100000 train accuracy: 0.415000 val accuracy: 0.425000\n",
      "lr 1.000000e-04 hidden_size 32.000000 reg 0.250000 train accuracy: 0.380000 val accuracy: 0.365000\n",
      "lr 1.000000e-04 hidden_size 64.000000 reg 0.000000 train accuracy: 0.500000 val accuracy: 0.493000\n",
      "lr 1.000000e-04 hidden_size 64.000000 reg 0.001000 train accuracy: 0.500000 val accuracy: 0.491000\n",
      "lr 1.000000e-04 hidden_size 64.000000 reg 0.100000 train accuracy: 0.545000 val accuracy: 0.515000\n",
      "lr 1.000000e-04 hidden_size 64.000000 reg 0.250000 train accuracy: 0.485000 val accuracy: 0.492000\n",
      "lr 1.000000e-04 hidden_size 128.000000 reg 0.000000 train accuracy: 0.590000 val accuracy: 0.578000\n",
      "lr 1.000000e-04 hidden_size 128.000000 reg 0.001000 train accuracy: 0.555000 val accuracy: 0.550000\n",
      "lr 1.000000e-04 hidden_size 128.000000 reg 0.100000 train accuracy: 0.585000 val accuracy: 0.569000\n",
      "lr 1.000000e-04 hidden_size 128.000000 reg 0.250000 train accuracy: 0.515000 val accuracy: 0.577000\n",
      "lr 1.000000e-04 hidden_size 256.000000 reg 0.000000 train accuracy: 0.630000 val accuracy: 0.627000\n",
      "lr 1.000000e-04 hidden_size 256.000000 reg 0.001000 train accuracy: 0.645000 val accuracy: 0.628000\n",
      "lr 1.000000e-04 hidden_size 256.000000 reg 0.100000 train accuracy: 0.625000 val accuracy: 0.608000\n",
      "lr 1.000000e-04 hidden_size 256.000000 reg 0.250000 train accuracy: 0.670000 val accuracy: 0.621000\n",
      "lr 1.000000e-03 hidden_size 32.000000 reg 0.000000 train accuracy: 0.635000 val accuracy: 0.669000\n",
      "lr 1.000000e-03 hidden_size 32.000000 reg 0.001000 train accuracy: 0.710000 val accuracy: 0.673000\n",
      "lr 1.000000e-03 hidden_size 32.000000 reg 0.100000 train accuracy: 0.740000 val accuracy: 0.687000\n",
      "lr 1.000000e-03 hidden_size 32.000000 reg 0.250000 train accuracy: 0.760000 val accuracy: 0.687000\n",
      "lr 1.000000e-03 hidden_size 64.000000 reg 0.000000 train accuracy: 0.735000 val accuracy: 0.689000\n",
      "lr 1.000000e-03 hidden_size 64.000000 reg 0.001000 train accuracy: 0.800000 val accuracy: 0.705000\n",
      "lr 1.000000e-03 hidden_size 64.000000 reg 0.100000 train accuracy: 0.705000 val accuracy: 0.687000\n",
      "lr 1.000000e-03 hidden_size 64.000000 reg 0.250000 train accuracy: 0.705000 val accuracy: 0.686000\n",
      "lr 1.000000e-03 hidden_size 128.000000 reg 0.000000 train accuracy: 0.800000 val accuracy: 0.688000\n",
      "lr 1.000000e-03 hidden_size 128.000000 reg 0.001000 train accuracy: 0.690000 val accuracy: 0.695000\n",
      "lr 1.000000e-03 hidden_size 128.000000 reg 0.100000 train accuracy: 0.780000 val accuracy: 0.697000\n",
      "lr 1.000000e-03 hidden_size 128.000000 reg 0.250000 train accuracy: 0.715000 val accuracy: 0.702000\n",
      "lr 1.000000e-03 hidden_size 256.000000 reg 0.000000 train accuracy: 0.785000 val accuracy: 0.700000\n",
      "lr 1.000000e-03 hidden_size 256.000000 reg 0.001000 train accuracy: 0.765000 val accuracy: 0.713000\n",
      "lr 1.000000e-03 hidden_size 256.000000 reg 0.100000 train accuracy: 0.720000 val accuracy: 0.717000\n",
      "lr 1.000000e-03 hidden_size 256.000000 reg 0.250000 train accuracy: 0.780000 val accuracy: 0.698000\n",
      "best validation accuracy achieved during cross-validation: 0.705000\n",
      "Neural Network on raw pixels final test set accuracy: 0.711000\n"
     ]
    }
   ],
   "source": [
    "learning_rates = [1e-4, 1e-3]\n",
    "hidden_sizes = [32, 64, 128, 256]\n",
    "regularizations = [0, 0.001, 0.1, 0.25] \n",
    "\n",
    "results = {}\n",
    "best_val = -1   \n",
    "best_net = None \n",
    "for lr in learning_rates:\n",
    "    for hs in hidden_sizes:\n",
    "        for r in regularizations:\n",
    "            model = ThreeLayerNet(input_size, hs, num_classes)\n",
    "            stats = model.train(X_train, y_train, X_val, y_val,\n",
    "                num_iters=1500, batch_size=200,\n",
    "                learning_rate=lr, reg=r, verbose=False)\n",
    "            training_ac = stats[\"train_acc_history\"][-1]\n",
    "            val_ac = stats[\"val_acc_history\"][-1]\n",
    "            results[(lr,hs,r)] = (training_ac,val_ac)\n",
    "            if val_acc > best_val :\n",
    "                best_val = val_ac\n",
    "                best_net = model\n",
    "                best_lr, best_hs, best_r = lr, hs, r\n",
    "            \n",
    "\n",
    "# Print results\n",
    "for lr, hidden_size, reg  in sorted(results):\n",
    "    train_accuracy, val_accuracy = results[(lr, hidden_size, reg)]\n",
    "    print ('lr %e hidden_size %f reg %f train accuracy: %f val accuracy: %f' % (\n",
    "                lr, hidden_size, reg, train_accuracy, val_accuracy))\n",
    "    \n",
    "print ('best validation accuracy achieved during cross-validation: %f' % best_val)\n",
    "\n",
    "test_accuracy = (best_net.predict(X_test) == y_test).mean()\n",
    "print ('Neural Network on raw pixels final test set accuracy: %f' % test_accuracy)"
   ]
  },
  {
   "cell_type": "markdown",
   "metadata": {},
   "source": [
    "#### Visualizing some of the results - it's apparent that the learning rate has substantial effect on the validation accuracy, almost always the best model has lr of 1e-3"
   ]
  },
  {
   "cell_type": "code",
   "execution_count": 27,
   "metadata": {},
   "outputs": [
    {
     "data": {
      "image/png": "[encoded data removed]",
      "text/plain": [
       "<Figure size 720x432 with 1 Axes>"
      ]
     },
     "metadata": {
      "needs_background": "light"
     },
     "output_type": "display_data"
    }
   ],
   "source": [
    "plt.rcParams['figure.figsize'] = (10, 6) \n",
    "lr_values_e4 = []\n",
    "lr_values_e3 = []\n",
    "lr_values_e2 = []\n",
    "for gs in hidden_sizes:\n",
    "    for r in regularizations:\n",
    "        lr_values_e4.append(results[0.0001,gs,r])\n",
    "        lr_values_e3.append(results[0.001,gs,r])\n",
    "x1 = [1e-4]*16\n",
    "y1 = [y1[1] for y1 in lr_values_e4]\n",
    "x2 = [1e-3]*16\n",
    "y2 = [y2[1] for y2 in lr_values_e3]\n",
    "plt.plot(x1, y1, 'v', color='black')\n",
    "plt.plot(x2, y2, 'x', color='black')\n",
    "\n",
    "plt.title(\"Plotting model validation accuracy\", size=\"16\")\n",
    "plt.xlabel(\"Learning Rate\", size=14)\n",
    "plt.ylabel(\"Validation accuracy\", size=14)\n",
    "plt.xlim(0, 0.0012)\n",
    "plt.ylim(0.3, 0.85)\n",
    "plt.scatter(best_lr, best_val, c=\"r\")\n",
    "plt.annotate(f\"best hyper params:\\nlr {best_lr}, hs {best_hs}, r {best_r}\",\n",
    "            size =10, xy=(best_lr, best_val), xytext=(0.6*best_lr, 1.1*best_val),\n",
    "            arrowprops=dict(facecolor='black', shrink=0.05))\n",
    "plt.show()"
   ]
  },
  {
   "cell_type": "markdown",
   "metadata": {
    "id": "BkyH1MtdPwdW"
   },
   "source": [
    "# Theoretical Questions"
   ]
  },
  {
   "cell_type": "markdown",
   "metadata": {
    "id": "BkyH1MtdPwdW"
   },
   "source": [
    "**What can we say about the training phase? Why does it take much longer to train compared toa linear model?**\n",
    "\n",
    "The reason it takes much longer is because the model is much more complex, the architecture of our deep 3 layer model holds many more weights then a single layer model. <br>\n",
    "Each weight requires computing and updating in the upstream and downstream processes.\n",
    "We are also using grid search for hyperparameter optimization which is resource consuming. \n",
    "\n",
    "Note the architecture of our model: <br>\n",
    "**input layer - fc layer - ReLU - fc layer - ReLu - softmax**  <br>\n",
    "Take for example a batch of size 1 for the 256 hidden layer size, in this case we have:\n",
    "* (32x32x3+1)x256 weights for first layer (input layer) \n",
    "* (256+1)x256 weights for second layer (hidden layer)\n",
    "* (256+1)x4 for third layer\n",
    "\n",
    "A total of 853,508 weights! thats more than 250-fold the complexity of the linear model in notebook (1)."
   ]
  },
  {
   "cell_type": "code",
   "execution_count": 28,
   "metadata": {},
   "outputs": [
    {
     "name": "stdout",
     "output_type": "stream",
     "text": [
      "853508\n"
     ]
    }
   ],
   "source": [
    "#Validating the model complexity\n",
    "a = model.params['W1'].size\n",
    "b = model.params['b1'].size\n",
    "c = model.params['W2'].size\n",
    "d = model.params['b2'].size\n",
    "e = model.params['W3'].size\n",
    "f = model.params['b3'].size\n",
    "print(a+b+c+d+e+f)"
   ]
  },
  {
   "cell_type": "markdown",
   "metadata": {
    "id": "BkyH1MtdPwdW"
   },
   "source": [
    "**What can we say about the difference (or lack of thereof) between the validation and training accuracy? What can we say about the connection between the loss and the accuracy?**\n",
    "\n",
    "In general, improving training accuracy should result in validation improvement although this doesn't always hold. Take for example over fitting. In our grid search difference between training and validation accuracy can be seen mostly when regularization is low. This happens due to low penalization on over fitting resulting in higher training accuracy with lower validation/test accuracy. The connection between the two can teach us how well the model can generalize over unseen data.\n",
    "\n",
    "The connection between the training loss to the validation accuracy is similar to as described above. Loss indicates a metric as to how \"close\" the model is to predicting the right label, while accuracy indicates how many time the prediction was correct.  \n",
    "On the other hand if we compare training loss to training accuracy then we should see strong correlation between the two, the lower the loss the more accurate the model is on the training set."
   ]
  },
  {
   "cell_type": "markdown",
   "metadata": {
    "id": "Yh8-pdw3-3u7"
   },
   "source": [
    "# The End"
   ]
  }
 ],
 "metadata": {
  "colab": {
   "collapsed_sections": [
    "Oa-bjEWl9fW6",
    "8MeVWzF19mVA"
   ],
   "name": "HW2.ipynb",
   "provenance": []
  },
  "kernelspec": {
   "display_name": "Python 3",
   "language": "python",
   "name": "python3"
  },
  "language_info": {
   "codemirror_mode": {
    "name": "ipython",
    "version": 3
   },
   "file_extension": ".py",
   "mimetype": "text/x-python",
   "name": "python",
   "nbconvert_exporter": "python",
   "pygments_lexer": "ipython3",
   "version": "3.8.8"
  },
  "toc": {
   "base_numbering": 1,
   "nav_menu": {},
   "number_sections": true,
   "sideBar": true,
   "skip_h1_title": false,
   "title_cell": "Table of Contents",
   "title_sidebar": "Contents",
   "toc_cell": false,
   "toc_position": {},
   "toc_section_display": true,
   "toc_window_display": false
  },
  "varInspector": {
   "cols": {
    "lenName": 16,
    "lenType": 16,
    "lenVar": 40
   },
   "kernels_config": {
    "python": {
     "delete_cmd_postfix": "",
     "delete_cmd_prefix": "del ",
     "library": "var_list.py",
     "varRefreshCmd": "print(var_dic_list())"
    },
    "r": {
     "delete_cmd_postfix": ") ",
     "delete_cmd_prefix": "rm(",
     "library": "var_list.r",
     "varRefreshCmd": "cat(var_dic_list()) "
    }
   },
   "types_to_exclude": [
    "module",
    "function",
    "builtin_function_or_method",
    "instance",
    "_Feature"
   ],
   "window_display": false
  }
 },
 "nbformat": 4,
 "nbformat_minor": 1
}
